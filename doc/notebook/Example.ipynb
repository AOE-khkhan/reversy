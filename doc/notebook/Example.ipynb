{
 "cells": [
  {
   "cell_type": "code",
   "execution_count": 1,
   "metadata": {},
   "outputs": [],
   "source": [
    "import ccad.model as cm \n",
    "import ccad.planarnet as pn\n",
    "import numpy as np\n",
    "import matplotlib.pyplot as plt\n",
    "import reversy.reversy as reversy\n",
    "from OCC.Display.WebGl import jupyter_renderer\n",
    "%matplotlib inline"
   ]
  },
  {
   "cell_type": "code",
   "execution_count": 2,
   "metadata": {},
   "outputs": [],
   "source": [
    "filename = \"../../step/ASM0001_ASM_1_ASM.stp\""
   ]
  },
  {
   "cell_type": "code",
   "execution_count": null,
   "metadata": {},
   "outputs": [
    {
     "name": "stderr",
     "output_type": "stream",
     "text": [
      "/home/uguen/anaconda2/envs/py36/lib/python3.6/site-packages/reversy-0.1.0-py3.6.egg/reversy/reversy.py:757: FutureWarning: set_value is deprecated and will be removed in a future release. Please use .at[] or .iat[] accessors instead\n",
      "/home/uguen/anaconda2/envs/py36/lib/python3.6/site-packages/reversy-0.1.0-py3.6.egg/reversy/reversy.py:760: FutureWarning: set_value is deprecated and will be removed in a future release. Please use .at[] or .iat[] accessors instead\n",
      "/home/uguen/anaconda2/envs/py36/lib/python3.6/site-packages/reversy-0.1.0-py3.6.egg/reversy/reversy.py:761: FutureWarning: set_value is deprecated and will be removed in a future release. Please use .at[] or .iat[] accessors instead\n",
      "/home/uguen/anaconda2/envs/py36/lib/python3.6/site-packages/reversy-0.1.0-py3.6.egg/reversy/reversy.py:762: FutureWarning: set_value is deprecated and will be removed in a future release. Please use .at[] or .iat[] accessors instead\n",
      "/home/uguen/anaconda2/envs/py36/lib/python3.6/site-packages/reversy-0.1.0-py3.6.egg/reversy/reversy.py:765: FutureWarning: set_value is deprecated and will be removed in a future release. Please use .at[] or .iat[] accessors instead\n",
      "/home/uguen/anaconda2/envs/py36/lib/python3.6/site-packages/reversy-0.1.0-py3.6.egg/reversy/reversy.py:804: SettingWithCopyWarning: \n",
      "A value is trying to be set on a copy of a slice from a DataFrame.\n",
      "Try using .loc[row_indexer,col_indexer] = value instead\n",
      "\n",
      "See the caveats in the documentation: http://pandas.pydata.org/pandas-docs/stable/indexing.html#indexing-view-versus-copy\n"
     ]
    },
    {
     "name": "stdout",
     "output_type": "stream",
     "text": [
      "equal_sim_nodes_edges\n",
      "delete_edges\n",
      "intersect_nodes_edges\n",
      "> /home/uguen/anaconda2/envs/py36/lib/python3.6/site-packages/reversy-0.1.0-py3.6.egg/reversy/reversy.py(1010)intersect()\n",
      "-> Intx1 = interval([bb1[0, 0], bb1[1, 0]])\n",
      "(Pdb) n\n",
      "> /home/uguen/anaconda2/envs/py36/lib/python3.6/site-packages/reversy-0.1.0-py3.6.egg/reversy/reversy.py(1011)intersect()\n",
      "-> Inty1 = interval([bb1[0, 1], bb1[1, 1]])\n",
      "(Pdb) n\n",
      "> /home/uguen/anaconda2/envs/py36/lib/python3.6/site-packages/reversy-0.1.0-py3.6.egg/reversy/reversy.py(1012)intersect()\n",
      "-> Intz1 = interval([bb1[0, 2], bb1[1, 2]])\n",
      "(Pdb) c\n",
      "> /home/uguen/anaconda2/envs/py36/lib/python3.6/site-packages/reversy-0.1.0-py3.6.egg/reversy/reversy.py(1010)intersect()\n",
      "-> Intx1 = interval([bb1[0, 0], bb1[1, 0]])\n",
      "(Pdb) c\n",
      "> /home/uguen/anaconda2/envs/py36/lib/python3.6/site-packages/reversy-0.1.0-py3.6.egg/reversy/reversy.py(1010)intersect()\n",
      "-> Intx1 = interval([bb1[0, 0], bb1[1, 0]])\n",
      "(Pdb) c\n",
      "> /home/uguen/anaconda2/envs/py36/lib/python3.6/site-packages/reversy-0.1.0-py3.6.egg/reversy/reversy.py(1010)intersect()\n",
      "-> Intx1 = interval([bb1[0, 0], bb1[1, 0]])\n",
      "--KeyboardInterrupt--\n"
     ]
    }
   ],
   "source": [
    "a1 = reversy.reverse(filename,view=False)"
   ]
  },
  {
   "cell_type": "code",
   "execution_count": null,
   "metadata": {},
   "outputs": [],
   "source": [
    "a1"
   ]
  },
  {
   "cell_type": "raw",
   "metadata": {},
   "source": [
    "s,j = a1.view(jupyter=True)"
   ]
  },
  {
   "cell_type": "code",
   "execution_count": null,
   "metadata": {},
   "outputs": [],
   "source": [
    "a1.show_graph(blabels=False,figsize=(10,10))"
   ]
  },
  {
   "cell_type": "code",
   "execution_count": 6,
   "metadata": {},
   "outputs": [
    {
     "data": {
      "text/html": [
       "<div>\n",
       "<style scoped>\n",
       "    .dataframe tbody tr th:only-of-type {\n",
       "        vertical-align: middle;\n",
       "    }\n",
       "\n",
       "    .dataframe tbody tr th {\n",
       "        vertical-align: top;\n",
       "    }\n",
       "\n",
       "    .dataframe thead th {\n",
       "        text-align: right;\n",
       "    }\n",
       "</style>\n",
       "<table border=\"1\" class=\"dataframe\">\n",
       "  <thead>\n",
       "    <tr style=\"text-align: right;\">\n",
       "      <th></th>\n",
       "      <th>name</th>\n",
       "      <th>count</th>\n",
       "      <th>nodes</th>\n",
       "      <th>volume</th>\n",
       "      <th>assembly</th>\n",
       "    </tr>\n",
       "  </thead>\n",
       "  <tbody>\n",
       "    <tr>\n",
       "      <th>0</th>\n",
       "      <td>___637#566#58___1</td>\n",
       "      <td>2</td>\n",
       "      <td>[0, 1]</td>\n",
       "      <td>423116</td>\n",
       "      <td>False</td>\n",
       "    </tr>\n",
       "    <tr>\n",
       "      <th>1</th>\n",
       "      <td>___105#95#4___1</td>\n",
       "      <td>4</td>\n",
       "      <td>[2, 3, 4, 5]</td>\n",
       "      <td>33497.5</td>\n",
       "      <td>False</td>\n",
       "    </tr>\n",
       "    <tr>\n",
       "      <th>2</th>\n",
       "      <td>___240#121#162___1</td>\n",
       "      <td>1</td>\n",
       "      <td>[6]</td>\n",
       "      <td>94171.5</td>\n",
       "      <td>False</td>\n",
       "    </tr>\n",
       "    <tr>\n",
       "      <th>3</th>\n",
       "      <td>___240#121#163___1</td>\n",
       "      <td>1</td>\n",
       "      <td>[7]</td>\n",
       "      <td>94171.6</td>\n",
       "      <td>False</td>\n",
       "    </tr>\n",
       "    <tr>\n",
       "      <th>4</th>\n",
       "      <td>___117#114#38___1</td>\n",
       "      <td>2</td>\n",
       "      <td>[8, 9]</td>\n",
       "      <td>27993.5</td>\n",
       "      <td>False</td>\n",
       "    </tr>\n",
       "  </tbody>\n",
       "</table>\n",
       "</div>"
      ],
      "text/plain": [
       "                 name count         nodes   volume assembly\n",
       "0   ___637#566#58___1     2        [0, 1]   423116    False\n",
       "1     ___105#95#4___1     4  [2, 3, 4, 5]  33497.5    False\n",
       "2  ___240#121#162___1     1           [6]  94171.5    False\n",
       "3  ___240#121#163___1     1           [7]  94171.6    False\n",
       "4   ___117#114#38___1     2        [8, 9]  27993.5    False"
      ]
     },
     "execution_count": 6,
     "metadata": {},
     "output_type": "execute_result"
    }
   ],
   "source": [
    "a1.df_nodes"
   ]
  },
  {
   "cell_type": "code",
   "execution_count": 7,
   "metadata": {},
   "outputs": [
    {
     "data": {
      "text/plain": [
       "{0: {},\n",
       " 1: {0: {'close': False, 'equal': False, 'intersect': False, 'sim': True}},\n",
       " 2: {0: {'close': True, 'equal': False, 'intersect': False, 'sim': False}},\n",
       " 3: {1: {'close': True, 'equal': False, 'intersect': False, 'sim': False},\n",
       "  2: {'close': False,\n",
       "   'djk': 2.1316282072803006e-12,\n",
       "   'equal': True,\n",
       "   'intersect': False,\n",
       "   'sim': True}},\n",
       " 4: {0: {'close': True, 'equal': False, 'intersect': False, 'sim': False},\n",
       "  2: {'close': False,\n",
       "   'djk': 3.0695446184836328e-12,\n",
       "   'equal': True,\n",
       "   'intersect': False,\n",
       "   'sim': True}},\n",
       " 5: {1: {'close': True, 'equal': False, 'intersect': False, 'sim': False},\n",
       "  2: {'close': False,\n",
       "   'djk': 6.6506800067145377e-12,\n",
       "   'equal': True,\n",
       "   'intersect': False,\n",
       "   'sim': True}},\n",
       " 6: {0: {'close': True, 'equal': False, 'intersect': True, 'sim': False}},\n",
       " 7: {1: {'close': True, 'equal': False, 'intersect': True, 'sim': False},\n",
       "  6: {'close': False, 'equal': False, 'intersect': False, 'sim': True}},\n",
       " 8: {0: {'close': True, 'equal': False, 'intersect': True, 'sim': False},\n",
       "  6: {'close': True, 'equal': False, 'intersect': True, 'sim': False}},\n",
       " 9: {1: {'close': True, 'equal': False, 'intersect': True, 'sim': False},\n",
       "  7: {'close': True, 'equal': False, 'intersect': True, 'sim': False},\n",
       "  8: {'close': False, 'equal': False, 'intersect': False, 'sim': True}}}"
      ]
     },
     "execution_count": 7,
     "metadata": {},
     "output_type": "execute_result"
    }
   ],
   "source": [
    "a1.edge"
   ]
  },
  {
   "cell_type": "code",
   "execution_count": 8,
   "metadata": {},
   "outputs": [
    {
     "name": "stdout",
     "output_type": "stream",
     "text": [
      "1 0 {'close': False, 'equal': False, 'sim': True, 'intersect': False}\n",
      "2 0 {'close': True, 'equal': False, 'intersect': False, 'sim': False}\n",
      "3 1 {'close': True, 'equal': False, 'intersect': False, 'sim': False}\n",
      "3 2 {'close': False, 'djk': 2.1316282072803006e-12, 'equal': True, 'sim': True, 'intersect': False}\n",
      "4 0 {'close': True, 'equal': False, 'intersect': False, 'sim': False}\n",
      "4 2 {'close': False, 'djk': 3.0695446184836328e-12, 'equal': True, 'sim': True, 'intersect': False}\n",
      "5 1 {'close': True, 'equal': False, 'intersect': False, 'sim': False}\n",
      "5 2 {'close': False, 'djk': 6.6506800067145377e-12, 'equal': True, 'sim': True, 'intersect': False}\n",
      "6 0 {'close': True, 'equal': False, 'intersect': True, 'sim': False}\n",
      "7 1 {'close': True, 'equal': False, 'intersect': True, 'sim': False}\n",
      "7 6 {'close': False, 'equal': False, 'sim': True, 'intersect': False}\n",
      "8 0 {'close': True, 'equal': False, 'intersect': True, 'sim': False}\n",
      "8 6 {'close': True, 'equal': False, 'intersect': True, 'sim': False}\n",
      "9 8 {'close': False, 'equal': False, 'sim': True, 'intersect': False}\n",
      "9 1 {'close': True, 'equal': False, 'intersect': True, 'sim': False}\n",
      "9 7 {'close': True, 'equal': False, 'intersect': True, 'sim': False}\n"
     ]
    }
   ],
   "source": [
    "for e in a1.edges():\n",
    "    print e[0],e[1],a1.edge[e[0]][e[1]]"
   ]
  },
  {
   "cell_type": "code",
   "execution_count": 7,
   "metadata": {},
   "outputs": [],
   "source": [
    "A = a1.merge_nodes([1,7,9,3,5])"
   ]
  },
  {
   "cell_type": "code",
   "execution_count": 24,
   "metadata": {},
   "outputs": [
    {
     "data": {
      "text/plain": [
       "{'V': array([[ 1.,  0.,  0.],\n",
       "        [ 0.,  1.,  0.],\n",
       "        [ 0.,  0.,  1.]]),\n",
       " 'assembly': True,\n",
       " 'name': '705#456#167',\n",
       " 'pc': array([0, 0, 0]),\n",
       " 'sig': '705#456#167',\n",
       " 'volume': 94988.54732647975}"
      ]
     },
     "execution_count": 24,
     "metadata": {},
     "output_type": "execute_result"
    }
   ],
   "source": [
    "a1.node[10]"
   ]
  },
  {
   "cell_type": "code",
   "execution_count": null,
   "metadata": {},
   "outputs": [],
   "source": []
  }
 ],
 "metadata": {
  "kernelspec": {
   "display_name": "Python 3",
   "language": "python",
   "name": "python3"
  },
  "language_info": {
   "codemirror_mode": {
    "name": "ipython",
    "version": 3
   },
   "file_extension": ".py",
   "mimetype": "text/x-python",
   "name": "python",
   "nbconvert_exporter": "python",
   "pygments_lexer": "ipython3",
   "version": "3.6.3"
  },
  "nbTranslate": {
   "displayLangs": [
    "*"
   ],
   "hotkey": "alt-t",
   "langInMainMenu": true,
   "sourceLang": "en",
   "targetLang": "fr",
   "useGoogleTranslate": true
  },
  "toc": {
   "nav_menu": {},
   "number_sections": true,
   "sideBar": true,
   "skip_h1_title": false,
   "toc_cell": false,
   "toc_position": {},
   "toc_section_display": "block",
   "toc_window_display": false
  }
 },
 "nbformat": 4,
 "nbformat_minor": 2
}
